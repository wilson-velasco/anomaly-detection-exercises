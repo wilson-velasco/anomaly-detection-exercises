{
 "cells": [
  {
   "cell_type": "markdown",
   "id": "2d7f8c9a",
   "metadata": {},
   "source": [
    "**Use basic probability to identify anomalous requests. Using the methods covered in this lesson, examine the rest of the features in the api access logs data set.**"
   ]
  },
  {
   "cell_type": "code",
   "execution_count": 3,
   "id": "1c487059",
   "metadata": {},
   "outputs": [],
   "source": [
    "import pandas as pd\n",
    "import numpy as np\n",
    "import scipy.stats as stats\n",
    "import matplotlib.pyplot as plt\n",
    "import seaborn as sns\n",
    "\n",
    "import env"
   ]
  },
  {
   "cell_type": "code",
   "execution_count": 2,
   "id": "853f9c84",
   "metadata": {},
   "outputs": [],
   "source": [
    "from sqlalchemy import create_engine, text"
   ]
  },
  {
   "cell_type": "code",
   "execution_count": 5,
   "id": "f7047b24",
   "metadata": {},
   "outputs": [],
   "source": [
    "url = env.get_db_url('logs')"
   ]
  },
  {
   "cell_type": "code",
   "execution_count": 7,
   "id": "fb1a3361",
   "metadata": {},
   "outputs": [
    {
     "data": {
      "text/html": [
       "<div>\n",
       "<style scoped>\n",
       "    .dataframe tbody tr th:only-of-type {\n",
       "        vertical-align: middle;\n",
       "    }\n",
       "\n",
       "    .dataframe tbody tr th {\n",
       "        vertical-align: top;\n",
       "    }\n",
       "\n",
       "    .dataframe thead th {\n",
       "        text-align: right;\n",
       "    }\n",
       "</style>\n",
       "<table border=\"1\" class=\"dataframe\">\n",
       "  <thead>\n",
       "    <tr style=\"text-align: right;\">\n",
       "      <th></th>\n",
       "      <th>entry</th>\n",
       "    </tr>\n",
       "  </thead>\n",
       "  <tbody>\n",
       "    <tr>\n",
       "      <th>0</th>\n",
       "      <td>97.105.19.58 - - [16/Apr/2019:19:34:42 +0000] ...</td>\n",
       "    </tr>\n",
       "    <tr>\n",
       "      <th>1</th>\n",
       "      <td>97.105.19.58 - - [16/Apr/2019:19:34:42 +0000] ...</td>\n",
       "    </tr>\n",
       "    <tr>\n",
       "      <th>2</th>\n",
       "      <td>97.105.19.58 - - [16/Apr/2019:19:34:44 +0000] ...</td>\n",
       "    </tr>\n",
       "    <tr>\n",
       "      <th>3</th>\n",
       "      <td>97.105.19.58 - - [16/Apr/2019:19:34:46 +0000] ...</td>\n",
       "    </tr>\n",
       "    <tr>\n",
       "      <th>4</th>\n",
       "      <td>97.105.19.58 - - [16/Apr/2019:19:34:48 +0000] ...</td>\n",
       "    </tr>\n",
       "  </tbody>\n",
       "</table>\n",
       "</div>"
      ],
      "text/plain": [
       "                                               entry\n",
       "0  97.105.19.58 - - [16/Apr/2019:19:34:42 +0000] ...\n",
       "1  97.105.19.58 - - [16/Apr/2019:19:34:42 +0000] ...\n",
       "2  97.105.19.58 - - [16/Apr/2019:19:34:44 +0000] ...\n",
       "3  97.105.19.58 - - [16/Apr/2019:19:34:46 +0000] ...\n",
       "4  97.105.19.58 - - [16/Apr/2019:19:34:48 +0000] ..."
      ]
     },
     "execution_count": 7,
     "metadata": {},
     "output_type": "execute_result"
    }
   ],
   "source": [
    "api = pd.read_sql('''SELECT * FROM api_access''', url)\n",
    "\n",
    "api.head()"
   ]
  },
  {
   "cell_type": "code",
   "execution_count": 12,
   "id": "0efb9c9a",
   "metadata": {},
   "outputs": [
    {
     "data": {
      "text/plain": [
       "'97.105.19.58 - - [16/Apr/2019:19:34:42 +0000] \"GET /api/v1/sales?page=81 HTTP/1.1\" 200 512495 \"-\" \"python-requests/2.21.0\"'"
      ]
     },
     "execution_count": 12,
     "metadata": {},
     "output_type": "execute_result"
    }
   ],
   "source": [
    "api.entry[0]"
   ]
  },
  {
   "cell_type": "code",
   "execution_count": 22,
   "id": "05ee8f43",
   "metadata": {},
   "outputs": [],
   "source": [
    "parts = api.entry.str.split()"
   ]
  },
  {
   "cell_type": "code",
   "execution_count": 23,
   "id": "4bc9d27b",
   "metadata": {},
   "outputs": [
    {
     "data": {
      "text/plain": [
       "['97.105.19.58',\n",
       " '-',\n",
       " '-',\n",
       " '[16/Apr/2019:19:34:42',\n",
       " '+0000]',\n",
       " '\"GET',\n",
       " '/api/v1/sales?page=81',\n",
       " 'HTTP/1.1\"',\n",
       " '200',\n",
       " '512495',\n",
       " '\"-\"',\n",
       " '\"python-requests/2.21.0\"']"
      ]
     },
     "execution_count": 23,
     "metadata": {},
     "output_type": "execute_result"
    }
   ],
   "source": [
    "parts[0]"
   ]
  },
  {
   "cell_type": "code",
   "execution_count": 24,
   "id": "2fa38c2a",
   "metadata": {},
   "outputs": [],
   "source": [
    "# function to deal with parsing one entry in our log data\n",
    "def parse_log_entry(entry):\n",
    "    parts = entry.split()\n",
    "    output = {}\n",
    "    output['ip'] = parts[0]\n",
    "    output['timestamp'] = parts[3][1:].replace(':', ' ', 1)\n",
    "    output['request_method'] = parts[5][1:]\n",
    "    output['request_path'] = parts[6]\n",
    "    output['http_version'] = parts[7][:-1]\n",
    "    output['status_code'] = parts[8]\n",
    "    output['size'] = int(parts[9])\n",
    "    output['user_agent'] = ' '.join(parts[11:]).replace('\"', '')\n",
    "    return pd.Series(output)"
   ]
  },
  {
   "cell_type": "code",
   "execution_count": 31,
   "id": "f0237f90",
   "metadata": {},
   "outputs": [],
   "source": [
    "api = api.entry.apply(parse_log_entry)"
   ]
  },
  {
   "cell_type": "code",
   "execution_count": 32,
   "id": "1542527d",
   "metadata": {},
   "outputs": [
    {
     "data": {
      "text/html": [
       "<div>\n",
       "<style scoped>\n",
       "    .dataframe tbody tr th:only-of-type {\n",
       "        vertical-align: middle;\n",
       "    }\n",
       "\n",
       "    .dataframe tbody tr th {\n",
       "        vertical-align: top;\n",
       "    }\n",
       "\n",
       "    .dataframe thead th {\n",
       "        text-align: right;\n",
       "    }\n",
       "</style>\n",
       "<table border=\"1\" class=\"dataframe\">\n",
       "  <thead>\n",
       "    <tr style=\"text-align: right;\">\n",
       "      <th></th>\n",
       "      <th>ip</th>\n",
       "      <th>timestamp</th>\n",
       "      <th>request_method</th>\n",
       "      <th>request_path</th>\n",
       "      <th>http_version</th>\n",
       "      <th>status_code</th>\n",
       "      <th>size</th>\n",
       "      <th>user_agent</th>\n",
       "    </tr>\n",
       "  </thead>\n",
       "  <tbody>\n",
       "    <tr>\n",
       "      <th>0</th>\n",
       "      <td>97.105.19.58</td>\n",
       "      <td>16/Apr/2019 19:34:42</td>\n",
       "      <td>GET</td>\n",
       "      <td>/api/v1/sales?page=81</td>\n",
       "      <td>HTTP/1.1</td>\n",
       "      <td>200</td>\n",
       "      <td>512495</td>\n",
       "      <td>python-requests/2.21.0</td>\n",
       "    </tr>\n",
       "    <tr>\n",
       "      <th>1</th>\n",
       "      <td>97.105.19.58</td>\n",
       "      <td>16/Apr/2019 19:34:42</td>\n",
       "      <td>GET</td>\n",
       "      <td>/api/v1/items</td>\n",
       "      <td>HTTP/1.1</td>\n",
       "      <td>200</td>\n",
       "      <td>3561</td>\n",
       "      <td>python-requests/2.21.0</td>\n",
       "    </tr>\n",
       "    <tr>\n",
       "      <th>2</th>\n",
       "      <td>97.105.19.58</td>\n",
       "      <td>16/Apr/2019 19:34:44</td>\n",
       "      <td>GET</td>\n",
       "      <td>/api/v1/sales?page=82</td>\n",
       "      <td>HTTP/1.1</td>\n",
       "      <td>200</td>\n",
       "      <td>510103</td>\n",
       "      <td>python-requests/2.21.0</td>\n",
       "    </tr>\n",
       "    <tr>\n",
       "      <th>3</th>\n",
       "      <td>97.105.19.58</td>\n",
       "      <td>16/Apr/2019 19:34:46</td>\n",
       "      <td>GET</td>\n",
       "      <td>/api/v1/sales?page=83</td>\n",
       "      <td>HTTP/1.1</td>\n",
       "      <td>200</td>\n",
       "      <td>510003</td>\n",
       "      <td>python-requests/2.21.0</td>\n",
       "    </tr>\n",
       "    <tr>\n",
       "      <th>4</th>\n",
       "      <td>97.105.19.58</td>\n",
       "      <td>16/Apr/2019 19:34:48</td>\n",
       "      <td>GET</td>\n",
       "      <td>/api/v1/sales?page=84</td>\n",
       "      <td>HTTP/1.1</td>\n",
       "      <td>200</td>\n",
       "      <td>511963</td>\n",
       "      <td>python-requests/2.21.0</td>\n",
       "    </tr>\n",
       "  </tbody>\n",
       "</table>\n",
       "</div>"
      ],
      "text/plain": [
       "             ip             timestamp request_method           request_path  \\\n",
       "0  97.105.19.58  16/Apr/2019 19:34:42            GET  /api/v1/sales?page=81   \n",
       "1  97.105.19.58  16/Apr/2019 19:34:42            GET          /api/v1/items   \n",
       "2  97.105.19.58  16/Apr/2019 19:34:44            GET  /api/v1/sales?page=82   \n",
       "3  97.105.19.58  16/Apr/2019 19:34:46            GET  /api/v1/sales?page=83   \n",
       "4  97.105.19.58  16/Apr/2019 19:34:48            GET  /api/v1/sales?page=84   \n",
       "\n",
       "  http_version status_code    size              user_agent  \n",
       "0     HTTP/1.1         200  512495  python-requests/2.21.0  \n",
       "1     HTTP/1.1         200    3561  python-requests/2.21.0  \n",
       "2     HTTP/1.1         200  510103  python-requests/2.21.0  \n",
       "3     HTTP/1.1         200  510003  python-requests/2.21.0  \n",
       "4     HTTP/1.1         200  511963  python-requests/2.21.0  "
      ]
     },
     "execution_count": 32,
     "metadata": {},
     "output_type": "execute_result"
    }
   ],
   "source": [
    "api.head()"
   ]
  },
  {
   "cell_type": "code",
   "execution_count": 33,
   "id": "569164a5",
   "metadata": {},
   "outputs": [
    {
     "data": {
      "text/plain": [
       "97.105.19.58      11998\n",
       "173.173.113.51     1059\n",
       "72.181.113.170      613\n",
       "72.181.105.81       246\n",
       "24.26.242.9          21\n",
       "68.201.219.223       21\n",
       "70.121.214.34         2\n",
       "52.87.230.102         2\n",
       "35.175.171.137        2\n",
       "54.145.52.184         1\n",
       "3.92.201.136          1\n",
       "35.174.209.2          1\n",
       "34.229.70.250         1\n",
       "54.172.14.223         1\n",
       "34.207.64.242         1\n",
       "3.88.129.158          1\n",
       "52.91.30.150          1\n",
       "52.90.165.200         1\n",
       "45.23.250.16          1\n",
       "Name: ip, dtype: int64"
      ]
     },
     "execution_count": 33,
     "metadata": {},
     "output_type": "execute_result"
    }
   ],
   "source": [
    "#Running value_counts on IP addresses to check anomalies\n",
    "\n",
    "api.ip.value_counts()"
   ]
  },
  {
   "cell_type": "code",
   "execution_count": 36,
   "id": "31ed85fb",
   "metadata": {},
   "outputs": [
    {
     "data": {
      "text/plain": [
       "python-requests/2.21.0                                                                                                       12001\n",
       "python-requests/2.20.1                                                                                                        1911\n",
       "Mozilla/5.0 (Macintosh; Intel Mac OS X 10_14_4) AppleWebKit/537.36 (KHTML, like Gecko) Chrome/73.0.3683.103 Safari/537.36       34\n",
       "Mozilla/5.0 (Macintosh; Intel Mac OS X 10.14; rv:66.0) Gecko/20100101 Firefox/66.0                                               8\n",
       "Slackbot-LinkExpanding 1.0 (+https://api.slack.com/robots)                                                                       7\n",
       "Slackbot 1.0 (+https://api.slack.com/robots)                                                                                     6\n",
       "Mozilla/5.0 (Macintosh; Intel Mac OS X 10_14_3) AppleWebKit/537.36 (KHTML, like Gecko) Chrome/73.0.3683.103 Safari/537.36        4\n",
       "Mozilla/5.0 (Macintosh; Intel Mac OS X 10_14_3) AppleWebKit/537.36 (KHTML, like Gecko) Chrome/72.0.3626.121 Safari/537.36        2\n",
       "Python-urllib/3.7                                                                                                                1\n",
       "Name: user_agent, dtype: int64"
      ]
     },
     "execution_count": 36,
     "metadata": {},
     "output_type": "execute_result"
    }
   ],
   "source": [
    "#Will run it on other columns as well just to see if anything stands out\n",
    "\n",
    "api.user_agent.value_counts()"
   ]
  },
  {
   "cell_type": "markdown",
   "id": "f4a3aa9e",
   "metadata": {},
   "source": [
    "Slackbot might be one. Python-urllib might be another one. "
   ]
  },
  {
   "cell_type": "code",
   "execution_count": 38,
   "id": "e094717f",
   "metadata": {},
   "outputs": [
    {
     "data": {
      "text/plain": [
       "/api/v1/sales?page=2                 709\n",
       "/api/v1/items                        464\n",
       "/api/v1/items?page=2                 291\n",
       "/api/v1/items?page=3                 219\n",
       "/api/v1/stores                       162\n",
       "                                    ... \n",
       "/api/v1/items?page=0                   1\n",
       "/api/v1/stores?page=999                1\n",
       "/api/v1/stores?page=2                  1\n",
       "/api/v1/stores?page=666                1\n",
       "/api/v1/items/api/v1/items?page=3      1\n",
       "Name: request_path, Length: 218, dtype: int64"
      ]
     },
     "execution_count": 38,
     "metadata": {},
     "output_type": "execute_result"
    }
   ],
   "source": [
    "api.request_path.value_counts()"
   ]
  },
  {
   "cell_type": "markdown",
   "id": "5260235d",
   "metadata": {},
   "source": [
    "It's odd that someone would try and go to page number 999... some of these smaller counts are suspect."
   ]
  },
  {
   "cell_type": "code",
   "execution_count": 39,
   "id": "306fa774",
   "metadata": {},
   "outputs": [
    {
     "data": {
      "text/plain": [
       "HTTP/1.1    13974\n",
       "Name: http_version, dtype: int64"
      ]
     },
     "execution_count": 39,
     "metadata": {},
     "output_type": "execute_result"
    }
   ],
   "source": [
    "api.http_version.value_counts()"
   ]
  },
  {
   "cell_type": "markdown",
   "id": "f62c513b",
   "metadata": {},
   "source": [
    "Nothing odd here."
   ]
  },
  {
   "cell_type": "code",
   "execution_count": 41,
   "id": "cefd8192",
   "metadata": {},
   "outputs": [
    {
     "data": {
      "text/plain": [
       "GET    13974\n",
       "Name: request_method, dtype: int64"
      ]
     },
     "execution_count": 41,
     "metadata": {},
     "output_type": "execute_result"
    }
   ],
   "source": [
    "api.request_method.value_counts()"
   ]
  },
  {
   "cell_type": "markdown",
   "id": "fb350f2c",
   "metadata": {},
   "source": [
    "Nothing odd here."
   ]
  },
  {
   "cell_type": "markdown",
   "id": "c8785c5d",
   "metadata": {},
   "source": [
    "### Conditional Probabilities"
   ]
  },
  {
   "cell_type": "code",
   "execution_count": 43,
   "id": "5a4101e2",
   "metadata": {},
   "outputs": [
    {
     "data": {
      "text/plain": [
       "97.105.19.58      0.858595\n",
       "173.173.113.51    0.075784\n",
       "72.181.113.170    0.043867\n",
       "72.181.105.81     0.017604\n",
       "24.26.242.9       0.001503\n",
       "68.201.219.223    0.001503\n",
       "70.121.214.34     0.000143\n",
       "52.87.230.102     0.000143\n",
       "35.175.171.137    0.000143\n",
       "54.145.52.184     0.000072\n",
       "3.92.201.136      0.000072\n",
       "35.174.209.2      0.000072\n",
       "34.229.70.250     0.000072\n",
       "54.172.14.223     0.000072\n",
       "34.207.64.242     0.000072\n",
       "3.88.129.158      0.000072\n",
       "52.91.30.150      0.000072\n",
       "52.90.165.200     0.000072\n",
       "45.23.250.16      0.000072\n",
       "Name: ip, dtype: float64"
      ]
     },
     "execution_count": 43,
     "metadata": {},
     "output_type": "execute_result"
    }
   ],
   "source": [
    "#For this one I'll look at IP address and user_agent.\n",
    "\n",
    "api.ip.value_counts(normalize=True)"
   ]
  },
  {
   "cell_type": "code",
   "execution_count": 51,
   "id": "bd9dcf27",
   "metadata": {},
   "outputs": [],
   "source": [
    "user_given_ip = api.groupby('ip').user_agent.value_counts(normalize=True).rename('prob_user_given_ip').reset_index()"
   ]
  },
  {
   "cell_type": "code",
   "execution_count": 52,
   "id": "a2bbbc17",
   "metadata": {},
   "outputs": [
    {
     "data": {
      "text/html": [
       "<div>\n",
       "<style scoped>\n",
       "    .dataframe tbody tr th:only-of-type {\n",
       "        vertical-align: middle;\n",
       "    }\n",
       "\n",
       "    .dataframe tbody tr th {\n",
       "        vertical-align: top;\n",
       "    }\n",
       "\n",
       "    .dataframe thead th {\n",
       "        text-align: right;\n",
       "    }\n",
       "</style>\n",
       "<table border=\"1\" class=\"dataframe\">\n",
       "  <thead>\n",
       "    <tr style=\"text-align: right;\">\n",
       "      <th></th>\n",
       "      <th>ip</th>\n",
       "      <th>user_agent</th>\n",
       "      <th>prob_user_given_ip</th>\n",
       "    </tr>\n",
       "  </thead>\n",
       "  <tbody>\n",
       "    <tr>\n",
       "      <th>0</th>\n",
       "      <td>173.173.113.51</td>\n",
       "      <td>python-requests/2.21.0</td>\n",
       "      <td>1.000000</td>\n",
       "    </tr>\n",
       "    <tr>\n",
       "      <th>1</th>\n",
       "      <td>24.26.242.9</td>\n",
       "      <td>python-requests/2.21.0</td>\n",
       "      <td>1.000000</td>\n",
       "    </tr>\n",
       "    <tr>\n",
       "      <th>2</th>\n",
       "      <td>3.88.129.158</td>\n",
       "      <td>Slackbot-LinkExpanding 1.0 (+https://api.slack...</td>\n",
       "      <td>1.000000</td>\n",
       "    </tr>\n",
       "    <tr>\n",
       "      <th>3</th>\n",
       "      <td>3.92.201.136</td>\n",
       "      <td>Slackbot-LinkExpanding 1.0 (+https://api.slack...</td>\n",
       "      <td>1.000000</td>\n",
       "    </tr>\n",
       "    <tr>\n",
       "      <th>4</th>\n",
       "      <td>34.207.64.242</td>\n",
       "      <td>Slackbot 1.0 (+https://api.slack.com/robots)</td>\n",
       "      <td>1.000000</td>\n",
       "    </tr>\n",
       "    <tr>\n",
       "      <th>5</th>\n",
       "      <td>34.229.70.250</td>\n",
       "      <td>Slackbot 1.0 (+https://api.slack.com/robots)</td>\n",
       "      <td>1.000000</td>\n",
       "    </tr>\n",
       "    <tr>\n",
       "      <th>6</th>\n",
       "      <td>35.174.209.2</td>\n",
       "      <td>Slackbot 1.0 (+https://api.slack.com/robots)</td>\n",
       "      <td>1.000000</td>\n",
       "    </tr>\n",
       "    <tr>\n",
       "      <th>7</th>\n",
       "      <td>35.175.171.137</td>\n",
       "      <td>Slackbot-LinkExpanding 1.0 (+https://api.slack...</td>\n",
       "      <td>1.000000</td>\n",
       "    </tr>\n",
       "    <tr>\n",
       "      <th>8</th>\n",
       "      <td>45.23.250.16</td>\n",
       "      <td>python-requests/2.21.0</td>\n",
       "      <td>1.000000</td>\n",
       "    </tr>\n",
       "    <tr>\n",
       "      <th>9</th>\n",
       "      <td>52.87.230.102</td>\n",
       "      <td>Slackbot 1.0 (+https://api.slack.com/robots)</td>\n",
       "      <td>0.500000</td>\n",
       "    </tr>\n",
       "    <tr>\n",
       "      <th>10</th>\n",
       "      <td>52.87.230.102</td>\n",
       "      <td>Slackbot-LinkExpanding 1.0 (+https://api.slack...</td>\n",
       "      <td>0.500000</td>\n",
       "    </tr>\n",
       "    <tr>\n",
       "      <th>11</th>\n",
       "      <td>52.90.165.200</td>\n",
       "      <td>Slackbot 1.0 (+https://api.slack.com/robots)</td>\n",
       "      <td>1.000000</td>\n",
       "    </tr>\n",
       "    <tr>\n",
       "      <th>12</th>\n",
       "      <td>52.91.30.150</td>\n",
       "      <td>Slackbot-LinkExpanding 1.0 (+https://api.slack...</td>\n",
       "      <td>1.000000</td>\n",
       "    </tr>\n",
       "    <tr>\n",
       "      <th>13</th>\n",
       "      <td>54.145.52.184</td>\n",
       "      <td>Slackbot 1.0 (+https://api.slack.com/robots)</td>\n",
       "      <td>1.000000</td>\n",
       "    </tr>\n",
       "    <tr>\n",
       "      <th>14</th>\n",
       "      <td>54.172.14.223</td>\n",
       "      <td>Slackbot-LinkExpanding 1.0 (+https://api.slack...</td>\n",
       "      <td>1.000000</td>\n",
       "    </tr>\n",
       "    <tr>\n",
       "      <th>15</th>\n",
       "      <td>68.201.219.223</td>\n",
       "      <td>python-requests/2.21.0</td>\n",
       "      <td>1.000000</td>\n",
       "    </tr>\n",
       "    <tr>\n",
       "      <th>16</th>\n",
       "      <td>70.121.214.34</td>\n",
       "      <td>Mozilla/5.0 (Macintosh; Intel Mac OS X 10_14_3...</td>\n",
       "      <td>1.000000</td>\n",
       "    </tr>\n",
       "    <tr>\n",
       "      <th>17</th>\n",
       "      <td>72.181.105.81</td>\n",
       "      <td>python-requests/2.21.0</td>\n",
       "      <td>0.934959</td>\n",
       "    </tr>\n",
       "    <tr>\n",
       "      <th>18</th>\n",
       "      <td>72.181.105.81</td>\n",
       "      <td>Mozilla/5.0 (Macintosh; Intel Mac OS X 10.14; ...</td>\n",
       "      <td>0.032520</td>\n",
       "    </tr>\n",
       "    <tr>\n",
       "      <th>19</th>\n",
       "      <td>72.181.105.81</td>\n",
       "      <td>Mozilla/5.0 (Macintosh; Intel Mac OS X 10_14_4...</td>\n",
       "      <td>0.032520</td>\n",
       "    </tr>\n",
       "    <tr>\n",
       "      <th>20</th>\n",
       "      <td>72.181.113.170</td>\n",
       "      <td>python-requests/2.21.0</td>\n",
       "      <td>0.996737</td>\n",
       "    </tr>\n",
       "    <tr>\n",
       "      <th>21</th>\n",
       "      <td>72.181.113.170</td>\n",
       "      <td>Mozilla/5.0 (Macintosh; Intel Mac OS X 10_14_3...</td>\n",
       "      <td>0.003263</td>\n",
       "    </tr>\n",
       "    <tr>\n",
       "      <th>22</th>\n",
       "      <td>97.105.19.58</td>\n",
       "      <td>python-requests/2.21.0</td>\n",
       "      <td>0.838306</td>\n",
       "    </tr>\n",
       "    <tr>\n",
       "      <th>23</th>\n",
       "      <td>97.105.19.58</td>\n",
       "      <td>python-requests/2.20.1</td>\n",
       "      <td>0.159277</td>\n",
       "    </tr>\n",
       "    <tr>\n",
       "      <th>24</th>\n",
       "      <td>97.105.19.58</td>\n",
       "      <td>Mozilla/5.0 (Macintosh; Intel Mac OS X 10_14_4...</td>\n",
       "      <td>0.002167</td>\n",
       "    </tr>\n",
       "    <tr>\n",
       "      <th>25</th>\n",
       "      <td>97.105.19.58</td>\n",
       "      <td>Mozilla/5.0 (Macintosh; Intel Mac OS X 10_14_3...</td>\n",
       "      <td>0.000167</td>\n",
       "    </tr>\n",
       "    <tr>\n",
       "      <th>26</th>\n",
       "      <td>97.105.19.58</td>\n",
       "      <td>Python-urllib/3.7</td>\n",
       "      <td>0.000083</td>\n",
       "    </tr>\n",
       "  </tbody>\n",
       "</table>\n",
       "</div>"
      ],
      "text/plain": [
       "                ip                                         user_agent  \\\n",
       "0   173.173.113.51                             python-requests/2.21.0   \n",
       "1      24.26.242.9                             python-requests/2.21.0   \n",
       "2     3.88.129.158  Slackbot-LinkExpanding 1.0 (+https://api.slack...   \n",
       "3     3.92.201.136  Slackbot-LinkExpanding 1.0 (+https://api.slack...   \n",
       "4    34.207.64.242       Slackbot 1.0 (+https://api.slack.com/robots)   \n",
       "5    34.229.70.250       Slackbot 1.0 (+https://api.slack.com/robots)   \n",
       "6     35.174.209.2       Slackbot 1.0 (+https://api.slack.com/robots)   \n",
       "7   35.175.171.137  Slackbot-LinkExpanding 1.0 (+https://api.slack...   \n",
       "8     45.23.250.16                             python-requests/2.21.0   \n",
       "9    52.87.230.102       Slackbot 1.0 (+https://api.slack.com/robots)   \n",
       "10   52.87.230.102  Slackbot-LinkExpanding 1.0 (+https://api.slack...   \n",
       "11   52.90.165.200       Slackbot 1.0 (+https://api.slack.com/robots)   \n",
       "12    52.91.30.150  Slackbot-LinkExpanding 1.0 (+https://api.slack...   \n",
       "13   54.145.52.184       Slackbot 1.0 (+https://api.slack.com/robots)   \n",
       "14   54.172.14.223  Slackbot-LinkExpanding 1.0 (+https://api.slack...   \n",
       "15  68.201.219.223                             python-requests/2.21.0   \n",
       "16   70.121.214.34  Mozilla/5.0 (Macintosh; Intel Mac OS X 10_14_3...   \n",
       "17   72.181.105.81                             python-requests/2.21.0   \n",
       "18   72.181.105.81  Mozilla/5.0 (Macintosh; Intel Mac OS X 10.14; ...   \n",
       "19   72.181.105.81  Mozilla/5.0 (Macintosh; Intel Mac OS X 10_14_4...   \n",
       "20  72.181.113.170                             python-requests/2.21.0   \n",
       "21  72.181.113.170  Mozilla/5.0 (Macintosh; Intel Mac OS X 10_14_3...   \n",
       "22    97.105.19.58                             python-requests/2.21.0   \n",
       "23    97.105.19.58                             python-requests/2.20.1   \n",
       "24    97.105.19.58  Mozilla/5.0 (Macintosh; Intel Mac OS X 10_14_4...   \n",
       "25    97.105.19.58  Mozilla/5.0 (Macintosh; Intel Mac OS X 10_14_3...   \n",
       "26    97.105.19.58                                  Python-urllib/3.7   \n",
       "\n",
       "    prob_user_given_ip  \n",
       "0             1.000000  \n",
       "1             1.000000  \n",
       "2             1.000000  \n",
       "3             1.000000  \n",
       "4             1.000000  \n",
       "5             1.000000  \n",
       "6             1.000000  \n",
       "7             1.000000  \n",
       "8             1.000000  \n",
       "9             0.500000  \n",
       "10            0.500000  \n",
       "11            1.000000  \n",
       "12            1.000000  \n",
       "13            1.000000  \n",
       "14            1.000000  \n",
       "15            1.000000  \n",
       "16            1.000000  \n",
       "17            0.934959  \n",
       "18            0.032520  \n",
       "19            0.032520  \n",
       "20            0.996737  \n",
       "21            0.003263  \n",
       "22            0.838306  \n",
       "23            0.159277  \n",
       "24            0.002167  \n",
       "25            0.000167  \n",
       "26            0.000083  "
      ]
     },
     "execution_count": 52,
     "metadata": {},
     "output_type": "execute_result"
    }
   ],
   "source": [
    "user_given_ip"
   ]
  },
  {
   "cell_type": "code",
   "execution_count": 55,
   "id": "b97f1fc0",
   "metadata": {},
   "outputs": [
    {
     "data": {
      "text/html": [
       "<div>\n",
       "<style scoped>\n",
       "    .dataframe tbody tr th:only-of-type {\n",
       "        vertical-align: middle;\n",
       "    }\n",
       "\n",
       "    .dataframe tbody tr th {\n",
       "        vertical-align: top;\n",
       "    }\n",
       "\n",
       "    .dataframe thead th {\n",
       "        text-align: right;\n",
       "    }\n",
       "</style>\n",
       "<table border=\"1\" class=\"dataframe\">\n",
       "  <thead>\n",
       "    <tr style=\"text-align: right;\">\n",
       "      <th></th>\n",
       "      <th>ip</th>\n",
       "      <th>user_agent</th>\n",
       "      <th>prob_user_given_ip</th>\n",
       "    </tr>\n",
       "  </thead>\n",
       "  <tbody>\n",
       "    <tr>\n",
       "      <th>26</th>\n",
       "      <td>97.105.19.58</td>\n",
       "      <td>Python-urllib/3.7</td>\n",
       "      <td>0.000083</td>\n",
       "    </tr>\n",
       "    <tr>\n",
       "      <th>25</th>\n",
       "      <td>97.105.19.58</td>\n",
       "      <td>Mozilla/5.0 (Macintosh; Intel Mac OS X 10_14_3...</td>\n",
       "      <td>0.000167</td>\n",
       "    </tr>\n",
       "    <tr>\n",
       "      <th>24</th>\n",
       "      <td>97.105.19.58</td>\n",
       "      <td>Mozilla/5.0 (Macintosh; Intel Mac OS X 10_14_4...</td>\n",
       "      <td>0.002167</td>\n",
       "    </tr>\n",
       "    <tr>\n",
       "      <th>21</th>\n",
       "      <td>72.181.113.170</td>\n",
       "      <td>Mozilla/5.0 (Macintosh; Intel Mac OS X 10_14_3...</td>\n",
       "      <td>0.003263</td>\n",
       "    </tr>\n",
       "    <tr>\n",
       "      <th>18</th>\n",
       "      <td>72.181.105.81</td>\n",
       "      <td>Mozilla/5.0 (Macintosh; Intel Mac OS X 10.14; ...</td>\n",
       "      <td>0.032520</td>\n",
       "    </tr>\n",
       "    <tr>\n",
       "      <th>19</th>\n",
       "      <td>72.181.105.81</td>\n",
       "      <td>Mozilla/5.0 (Macintosh; Intel Mac OS X 10_14_4...</td>\n",
       "      <td>0.032520</td>\n",
       "    </tr>\n",
       "    <tr>\n",
       "      <th>23</th>\n",
       "      <td>97.105.19.58</td>\n",
       "      <td>python-requests/2.20.1</td>\n",
       "      <td>0.159277</td>\n",
       "    </tr>\n",
       "    <tr>\n",
       "      <th>9</th>\n",
       "      <td>52.87.230.102</td>\n",
       "      <td>Slackbot 1.0 (+https://api.slack.com/robots)</td>\n",
       "      <td>0.500000</td>\n",
       "    </tr>\n",
       "    <tr>\n",
       "      <th>10</th>\n",
       "      <td>52.87.230.102</td>\n",
       "      <td>Slackbot-LinkExpanding 1.0 (+https://api.slack...</td>\n",
       "      <td>0.500000</td>\n",
       "    </tr>\n",
       "    <tr>\n",
       "      <th>22</th>\n",
       "      <td>97.105.19.58</td>\n",
       "      <td>python-requests/2.21.0</td>\n",
       "      <td>0.838306</td>\n",
       "    </tr>\n",
       "    <tr>\n",
       "      <th>17</th>\n",
       "      <td>72.181.105.81</td>\n",
       "      <td>python-requests/2.21.0</td>\n",
       "      <td>0.934959</td>\n",
       "    </tr>\n",
       "    <tr>\n",
       "      <th>20</th>\n",
       "      <td>72.181.113.170</td>\n",
       "      <td>python-requests/2.21.0</td>\n",
       "      <td>0.996737</td>\n",
       "    </tr>\n",
       "  </tbody>\n",
       "</table>\n",
       "</div>"
      ],
      "text/plain": [
       "                ip                                         user_agent  \\\n",
       "26    97.105.19.58                                  Python-urllib/3.7   \n",
       "25    97.105.19.58  Mozilla/5.0 (Macintosh; Intel Mac OS X 10_14_3...   \n",
       "24    97.105.19.58  Mozilla/5.0 (Macintosh; Intel Mac OS X 10_14_4...   \n",
       "21  72.181.113.170  Mozilla/5.0 (Macintosh; Intel Mac OS X 10_14_3...   \n",
       "18   72.181.105.81  Mozilla/5.0 (Macintosh; Intel Mac OS X 10.14; ...   \n",
       "19   72.181.105.81  Mozilla/5.0 (Macintosh; Intel Mac OS X 10_14_4...   \n",
       "23    97.105.19.58                             python-requests/2.20.1   \n",
       "9    52.87.230.102       Slackbot 1.0 (+https://api.slack.com/robots)   \n",
       "10   52.87.230.102  Slackbot-LinkExpanding 1.0 (+https://api.slack...   \n",
       "22    97.105.19.58                             python-requests/2.21.0   \n",
       "17   72.181.105.81                             python-requests/2.21.0   \n",
       "20  72.181.113.170                             python-requests/2.21.0   \n",
       "\n",
       "    prob_user_given_ip  \n",
       "26            0.000083  \n",
       "25            0.000167  \n",
       "24            0.002167  \n",
       "21            0.003263  \n",
       "18            0.032520  \n",
       "19            0.032520  \n",
       "23            0.159277  \n",
       "9             0.500000  \n",
       "10            0.500000  \n",
       "22            0.838306  \n",
       "17            0.934959  \n",
       "20            0.996737  "
      ]
     },
     "execution_count": 55,
     "metadata": {},
     "output_type": "execute_result"
    }
   ],
   "source": [
    "#Removing all values less than 100%\n",
    "\n",
    "user_given_ip[user_given_ip.prob_user_given_ip < 1].sort_values('prob_user_given_ip')"
   ]
  },
  {
   "cell_type": "code",
   "execution_count": 58,
   "id": "ea19b1cb",
   "metadata": {},
   "outputs": [
    {
     "data": {
      "text/html": [
       "<div>\n",
       "<style scoped>\n",
       "    .dataframe tbody tr th:only-of-type {\n",
       "        vertical-align: middle;\n",
       "    }\n",
       "\n",
       "    .dataframe tbody tr th {\n",
       "        vertical-align: top;\n",
       "    }\n",
       "\n",
       "    .dataframe thead th {\n",
       "        text-align: right;\n",
       "    }\n",
       "</style>\n",
       "<table border=\"1\" class=\"dataframe\">\n",
       "  <thead>\n",
       "    <tr style=\"text-align: right;\">\n",
       "      <th></th>\n",
       "      <th>ip</th>\n",
       "      <th>timestamp</th>\n",
       "      <th>request_method</th>\n",
       "      <th>request_path</th>\n",
       "      <th>http_version</th>\n",
       "      <th>status_code</th>\n",
       "      <th>size</th>\n",
       "      <th>user_agent</th>\n",
       "    </tr>\n",
       "  </thead>\n",
       "  <tbody>\n",
       "    <tr>\n",
       "      <th>6693</th>\n",
       "      <td>97.105.19.58</td>\n",
       "      <td>16/Apr/2019 20:57:38</td>\n",
       "      <td>GET</td>\n",
       "      <td>/api/v1/items&amp;page=0</td>\n",
       "      <td>HTTP/1.1</td>\n",
       "      <td>200</td>\n",
       "      <td>162</td>\n",
       "      <td>Python-urllib/3.7</td>\n",
       "    </tr>\n",
       "  </tbody>\n",
       "</table>\n",
       "</div>"
      ],
      "text/plain": [
       "                ip             timestamp request_method          request_path  \\\n",
       "6693  97.105.19.58  16/Apr/2019 20:57:38            GET  /api/v1/items&page=0   \n",
       "\n",
       "     http_version status_code  size         user_agent  \n",
       "6693     HTTP/1.1         200   162  Python-urllib/3.7  "
      ]
     },
     "execution_count": 58,
     "metadata": {},
     "output_type": "execute_result"
    }
   ],
   "source": [
    "#The most common IP address did pop up as rare for some given names... gonna look into that.\n",
    "\n",
    "api[(api.ip == '97.105.19.58') & (api.user_agent == 'Python-urllib/3.7')]"
   ]
  },
  {
   "cell_type": "code",
   "execution_count": null,
   "id": "6032cc43",
   "metadata": {},
   "outputs": [],
   "source": []
  }
 ],
 "metadata": {
  "kernelspec": {
   "display_name": "Python 3 (ipykernel)",
   "language": "python",
   "name": "python3"
  },
  "language_info": {
   "codemirror_mode": {
    "name": "ipython",
    "version": 3
   },
   "file_extension": ".py",
   "mimetype": "text/x-python",
   "name": "python",
   "nbconvert_exporter": "python",
   "pygments_lexer": "ipython3",
   "version": "3.9.13"
  }
 },
 "nbformat": 4,
 "nbformat_minor": 5
}
